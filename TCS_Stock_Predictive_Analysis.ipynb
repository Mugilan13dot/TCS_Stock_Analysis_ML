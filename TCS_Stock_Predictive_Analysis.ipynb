{
 "cells": [
  {
   "cell_type": "markdown",
   "id": "c08eccbe",
   "metadata": {},
   "source": [
    "# 📘 TCS Stock Predictive Analysis in Jupyter Notebook"
   ]
  },
  {
   "cell_type": "markdown",
   "id": "ac4a01d3",
   "metadata": {},
   "source": [
    "## 📦 Step 1: Import Required Libraries"
   ]
  },
  {
   "cell_type": "code",
   "execution_count": null,
   "id": "c23df722",
   "metadata": {},
   "outputs": [],
   "source": [
    "\n",
    "import pandas as pd\n",
    "import numpy as np\n",
    "import matplotlib.pyplot as plt\n",
    "import seaborn as sns\n",
    "\n",
    "from sklearn.linear_model import LinearRegression\n",
    "from sklearn.ensemble import RandomForestClassifier, RandomForestRegressor\n",
    "from sklearn.metrics import mean_absolute_error, mean_squared_error, r2_score, accuracy_score, confusion_matrix\n",
    "from sklearn.model_selection import train_test_split\n",
    "\n",
    "from statsmodels.tsa.arima.model import ARIMA\n",
    "import warnings\n",
    "warnings.filterwarnings('ignore')\n"
   ]
  },
  {
   "cell_type": "markdown",
   "id": "1f7bdd52",
   "metadata": {},
   "source": [
    "## 📥 Step 2: Load and Prepare Data"
   ]
  },
  {
   "cell_type": "code",
   "execution_count": null,
   "id": "8ca93200",
   "metadata": {},
   "outputs": [],
   "source": [
    "\n",
    "stock_history = pd.read_csv('TCS_stock_history.csv')\n",
    "stock_history['Date'] = pd.to_datetime(stock_history['Date'])\n",
    "stock_history.sort_values('Date', inplace=True)\n",
    "stock_history['Close_Lag1'] = stock_history['Close'].shift(1)\n",
    "stock_history['Close_Lag5'] = stock_history['Close'].shift(5)\n",
    "stock_history['MA20'] = stock_history['Close'].rolling(window=20).mean()\n",
    "stock_history['MA50'] = stock_history['Close'].rolling(window=50).mean()\n",
    "stock_history['Volume'] = stock_history['Volume']\n",
    "stock_history.dropna(inplace=True)\n"
   ]
  },
  {
   "cell_type": "markdown",
   "id": "49886d88",
   "metadata": {},
   "source": [
    "## 📊 Evaluation Function"
   ]
  },
  {
   "cell_type": "code",
   "execution_count": null,
   "id": "3a8f4cfd",
   "metadata": {},
   "outputs": [],
   "source": [
    "\n",
    "def evaluate_model(y_true, y_pred, model_name):\n",
    "    print(f\"\\n📊 {model_name} Performance:\")\n",
    "    print(f\"MAE: {mean_absolute_error(y_true, y_pred):.4f}\")\n",
    "    print(f\"RMSE: {np.sqrt(mean_squared_error(y_true, y_pred)):.4f}\")\n",
    "    print(f\"R²: {r2_score(y_true, y_pred):.4f}\")\n"
   ]
  },
  {
   "cell_type": "markdown",
   "id": "5ca7a9b4",
   "metadata": {},
   "source": [
    "## 🔮 1. Next-Day Close Price Prediction (Linear Regression)"
   ]
  },
  {
   "cell_type": "code",
   "execution_count": null,
   "id": "0bb374fc",
   "metadata": {},
   "outputs": [],
   "source": [
    "\n",
    "features = ['Close_Lag1', 'Close_Lag5', 'MA20', 'MA50']\n",
    "X = stock_history[features]\n",
    "y = stock_history['Close']\n",
    "X_train, X_test, y_train, y_test = train_test_split(X, y, test_size=0.2, shuffle=False)\n",
    "\n",
    "lr = LinearRegression()\n",
    "lr.fit(X_train, y_train)\n",
    "y_pred = lr.predict(X_test)\n",
    "\n",
    "evaluate_model(y_test, y_pred, \"Linear Regression\")\n"
   ]
  },
  {
   "cell_type": "markdown",
   "id": "d698988f",
   "metadata": {},
   "source": [
    "## 📈 2. Trend Classification: Up/Down Movement (Random Forest)"
   ]
  },
  {
   "cell_type": "code",
   "execution_count": null,
   "id": "c0dcc521",
   "metadata": {},
   "outputs": [],
   "source": [
    "\n",
    "stock_history['Target'] = (stock_history['Close'].shift(-1) > stock_history['Close']).astype(int)\n",
    "X = stock_history[features]\n",
    "y = stock_history['Target']\n",
    "X_train, X_test, y_train, y_test = train_test_split(X, y, test_size=0.2, shuffle=False)\n",
    "\n",
    "clf = RandomForestClassifier()\n",
    "clf.fit(X_train, y_train)\n",
    "y_pred = clf.predict(X_test)\n",
    "\n",
    "print(\"Accuracy:\", accuracy_score(y_test, y_pred))\n",
    "sns.heatmap(confusion_matrix(y_test, y_pred), annot=True, fmt='d')\n",
    "plt.title(\"Confusion Matrix\")\n",
    "plt.show()\n"
   ]
  },
  {
   "cell_type": "markdown",
   "id": "b3ca58c3",
   "metadata": {},
   "source": [
    "## 📉 3. Volatility Forecasting (Classification)"
   ]
  },
  {
   "cell_type": "code",
   "execution_count": null,
   "id": "8d48e5e4",
   "metadata": {},
   "outputs": [],
   "source": [
    "\n",
    "stock_history['Volatility'] = stock_history['Close'].rolling(window=10).std()\n",
    "stock_history['High_Volatility'] = (stock_history['Volatility'] > stock_history['Volatility'].quantile(0.75)).astype(int)\n",
    "X = stock_history[features]\n",
    "y = stock_history['High_Volatility']\n",
    "X_train, X_test, y_train, y_test = train_test_split(X, y, test_size=0.2, shuffle=False)\n",
    "\n",
    "rf = RandomForestClassifier()\n",
    "rf.fit(X_train, y_train)\n",
    "print(\"Volatility Accuracy:\", accuracy_score(y_test, rf.predict(X_test)))\n"
   ]
  },
  {
   "cell_type": "markdown",
   "id": "e7a57b7c",
   "metadata": {},
   "source": [
    "## 📊 4. 3-Day Ahead Close Price Forecast"
   ]
  },
  {
   "cell_type": "code",
   "execution_count": null,
   "id": "ccdf25c4",
   "metadata": {},
   "outputs": [],
   "source": [
    "\n",
    "stock_history['Close_3D_Future'] = stock_history['Close'].shift(-3)\n",
    "stock_history.dropna(inplace=True)\n",
    "\n",
    "X = stock_history[features]\n",
    "y = stock_history['Close_3D_Future']\n",
    "X_train, X_test, y_train, y_test = train_test_split(X, y, test_size=0.2, shuffle=False)\n",
    "\n",
    "model = RandomForestRegressor()\n",
    "model.fit(X_train, y_train)\n",
    "y_pred = model.predict(X_test)\n",
    "\n",
    "evaluate_model(y_test, y_pred, \"3-Day Forecast\")\n"
   ]
  },
  {
   "cell_type": "markdown",
   "id": "69156816",
   "metadata": {},
   "source": [
    "## 🧠 5. Time Series Forecasting with ARIMA"
   ]
  },
  {
   "cell_type": "code",
   "execution_count": null,
   "id": "07c0a79e",
   "metadata": {},
   "outputs": [],
   "source": [
    "\n",
    "ts = stock_history.set_index('Date')['Close']\n",
    "model = ARIMA(ts, order=(5,1,0))\n",
    "model_fit = model.fit()\n",
    "forecast = model_fit.forecast(steps=10)\n",
    "\n",
    "ts.plot(label='Actual', figsize=(12,6))\n",
    "forecast.plot(label='Forecast', color='red')\n",
    "plt.legend()\n",
    "plt.title(\"ARIMA Forecast - Next 10 Days\")\n",
    "plt.show()\n"
   ]
  }
 ],
 "metadata": {},
 "nbformat": 4,
 "nbformat_minor": 5
}
